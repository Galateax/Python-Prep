{
 "cells": [
  {
   "attachments": {},
   "cell_type": "markdown",
   "metadata": {},
   "source": [
    "## Clases y Programación Orientada a Objetos"
   ]
  },
  {
   "attachments": {},
   "cell_type": "markdown",
   "metadata": {},
   "source": [
    "1) Crear la clase vehículo que contenga los atributos:<br>\n",
    "Color<br>\n",
    "Si es moto, auto, camioneta ó camión<br>\n",
    "Cilindrada del motor"
   ]
  },
  {
   "cell_type": "code",
   "execution_count": 1,
   "metadata": {},
   "outputs": [],
   "source": [
    "class Vehiculo:\n",
    "    def __init__(self, color, tipo, cilindrada):\n",
    "        self.color = color\n",
    "        self.tipo = tipo\n",
    "        self.cilindrada = cilindrada\n",
    "        \n"
   ]
  },
  {
   "attachments": {},
   "cell_type": "markdown",
   "metadata": {},
   "source": [
    "2) A la clase Vehiculo creada en el punto 1, agregar los siguientes métodos:<br>\n",
    "Acelerar<br>\n",
    "Frenar<br>\n",
    "Doblar<br>"
   ]
  },
  {
   "cell_type": "code",
   "execution_count": 2,
   "metadata": {},
   "outputs": [],
   "source": [
    "class Vehiculo:\n",
    "    def __init__(self, color, tipo, cilindrada):\n",
    "        self.color = color\n",
    "        self.tipo = tipo\n",
    "        self.cilindrada = cilindrada\n",
    "        self.velocidad = 0\n",
    "        self.direccion = 0\n",
    "    \n",
    "    def Acelerar(self, vel):\n",
    "        self.velocidad += vel\n",
    "\n",
    "    def Frenar(self, vel):\n",
    "        self.velocidad -= vel\n",
    "\n",
    "    def Doblar(self, grados):\n",
    "        self.direccion += grados\n",
    "\n"
   ]
  },
  {
   "attachments": {},
   "cell_type": "markdown",
   "metadata": {},
   "source": [
    "3) Instanciar 3 objetos de la clase vehículo y ejecutar sus métodos, probar luego el resultado"
   ]
  },
  {
   "cell_type": "code",
   "execution_count": 11,
   "metadata": {},
   "outputs": [],
   "source": [
    "obj1 = Vehiculo(\"Gris\" , \"Automovil\", 1200)\n",
    "obj2 = Vehiculo(\"Blanco\", \"Moto\", 250)\n",
    "obj3 = Vehiculo(\"Rojo\",\"Camion\",3200)"
   ]
  },
  {
   "cell_type": "code",
   "execution_count": 12,
   "metadata": {},
   "outputs": [],
   "source": [
    "obj1.Acelerar(20)\n",
    "obj1.Frenar(5)\n",
    "obj1.Doblar(30)\n",
    "\n",
    "obj2.Acelerar(25)\n",
    "obj2.Frenar(3)\n",
    "obj2.Doblar(45)\n",
    "\n",
    "obj3.Acelerar(45)\n",
    "obj3.Frenar(10)\n",
    "obj3.Doblar(25)"
   ]
  },
  {
   "attachments": {},
   "cell_type": "markdown",
   "metadata": {},
   "source": [
    "4) Agregar a la clase Vehiculo, un método que muestre su estado, es decir, a que velocidad se encuentra y su dirección. Y otro método que muestre color, tipo y cilindrada"
   ]
  },
  {
   "cell_type": "code",
   "execution_count": 15,
   "metadata": {},
   "outputs": [],
   "source": [
    "class Vehiculo:\n",
    "    def __init__(self, color, tipo, cilindrada):\n",
    "        self.color = color\n",
    "        self.tipo = tipo\n",
    "        self.cilindrada = cilindrada\n",
    "        self.velocidad = 0\n",
    "        self.direccion = 0\n",
    "    \n",
    "    def Acelerar(self, vel):\n",
    "        self.velocidad += vel\n",
    "\n",
    "    def Frenar(self, vel):\n",
    "        self.velocidad -= vel\n",
    "\n",
    "    def Doblar(self, grados):\n",
    "        self.direccion += grados\n",
    "\n",
    "    def Descripcion(self):\n",
    "        print(f\"Soy {self.tipo} de color {self.color} de {self.cilindrada} cilindradas\")\n",
    "    \n",
    "    def Estado(self):\n",
    "        print(f\"Velocidad: {self.velocidad}\\n Direccion: {self.direccion}\")\n",
    "            \n",
    "  "
   ]
  },
  {
   "cell_type": "code",
   "execution_count": 16,
   "metadata": {},
   "outputs": [
    {
     "name": "stdout",
     "output_type": "stream",
     "text": [
      "Soy Automovil de color Gris de 1200 cilindradas\n",
      "Velocidad: 15\n",
      " Direccion: 30\n",
      "Soy Moto de color Blanco de 250 cilindradas\n",
      "Velocidad: 22\n",
      " Direccion: 45\n",
      "Soy Camion de color Rojo de 3200 cilindradas\n",
      "Velocidad: 35\n",
      " Direccion: 25\n"
     ]
    }
   ],
   "source": [
    "obj1.Descripcion()\n",
    "obj1.Estado()\n",
    "obj2.Descripcion()\n",
    "obj2.Estado()\n",
    "obj3.Descripcion()\n",
    "obj3.Estado()\n",
    "\n",
    "\n"
   ]
  },
  {
   "attachments": {},
   "cell_type": "markdown",
   "metadata": {},
   "source": [
    "5) Crear una clase que permita utilizar las funciones creadas en la práctica del módulo 7<br>\n",
    "Verificar Primo<br>\n",
    "Valor modal<br>\n",
    "Conversión grados<br>\n",
    "Factorial<br>"
   ]
  },
  {
   "cell_type": "code",
   "execution_count": 18,
   "metadata": {},
   "outputs": [],
   "source": [
    "class Herramientas: \n",
    "    def __init__(self) -> None:\n",
    "        pass\n",
    "\n",
    "    def verifica_primo(self, nro):\n",
    "        es_primo = True\n",
    "        for i in range(2,nro):\n",
    "            if nro % i == 0:\n",
    "                es_primo = False\n",
    "                break\n",
    "        return es_primo\n",
    "    \n",
    "    def valor_modal(self, lista, menor):\n",
    "        lista_unicos = []\n",
    "        lista_repeticiones = []\n",
    "        if len(lista) == 0:\n",
    "            return None\n",
    "        if (menor):\n",
    "            lista.sort()\n",
    "        else:\n",
    "            lista.sort(reverse=True)\n",
    "        for elemento in lista:\n",
    "            if elemento in lista_unicos:\n",
    "                i = lista_unicos.index(elemento)\n",
    "                lista_repeticiones[i] +=1\n",
    "            else:\n",
    "                lista_unicos.append(elemento)\n",
    "                lista_repeticiones.append(1)\n",
    "        moda = lista_unicos[0]\n",
    "        maximo = lista_repeticiones[0]\n",
    "        for i , elemento in enumerate(lista_unicos):\n",
    "            if lista_repeticiones > maximo:\n",
    "                moda = lista_unicos[i]\n",
    "                maximo = lista_repeticiones[i]\n",
    "        return moda, maximo\n",
    "    \n",
    "    def conversion_grados(valor, origen, destino):\n",
    "        valor_destino = None\n",
    "        if origen == \"celsius\":\n",
    "            if destino == \"celsius\":\n",
    "                valor_destino = valor\n",
    "            elif destino == \"farenheit\":\n",
    "                valor_destino = (valor * 9 / 5) + 32\n",
    "            elif destino == \"kelvin\":\n",
    "                valor_destino = valor + 273.15\n",
    "            else:\n",
    "                print(\"parametro de destino incorrecto\")\n",
    "        elif origen == \"farenheit\":\n",
    "            if destino == \"celsius\":\n",
    "                valor_destino = (valor - 32) * 5 / 9\n",
    "            elif destino == \"farenheit\":\n",
    "                valor_destino = valor\n",
    "            elif destino == \"kelvin\":\n",
    "                valor_destino = ((valor - 32) * 5 / 9) + 273.15\n",
    "            else:\n",
    "                print(\"parametro de destino incorrecto\")\n",
    "        elif origen == \"kelvin\":\n",
    "            if destino == \"celsius\":\n",
    "                valor_destino = valor - 273.15\n",
    "            elif destino == \"farenheit\":\n",
    "                valor_destino = ((valor - 273.15)* 9 / 5) + 32\n",
    "            elif destino == \"kelvin\":\n",
    "                valor_destino = valor\n",
    "            else:\n",
    "                print(\"parametro de destino incorrecto\")\n",
    "        else:\n",
    "            print(\"parametro de origen incorrecto\")\n",
    "        return valor_destino\n",
    "    \n",
    "    def factorial(numero):\n",
    "        if type(numero) != int or numero < 0:\n",
    "            return None\n",
    "        elif numero <= 1:\n",
    "            return 1\n",
    "\n",
    "        numero = numero * factorial(numero - 1)\n",
    "        return numero"
   ]
  },
  {
   "attachments": {},
   "cell_type": "markdown",
   "metadata": {},
   "source": [
    "6) Probar las funciones incorporadas en la clase del punto 5"
   ]
  },
  {
   "cell_type": "code",
   "execution_count": 19,
   "metadata": {},
   "outputs": [],
   "source": [
    "h = Herramientas()"
   ]
  },
  {
   "cell_type": "code",
   "execution_count": 20,
   "metadata": {},
   "outputs": [
    {
     "data": {
      "text/plain": [
       "False"
      ]
     },
     "execution_count": 20,
     "metadata": {},
     "output_type": "execute_result"
    }
   ],
   "source": [
    "h.verifica_primo(45)"
   ]
  },
  {
   "attachments": {},
   "cell_type": "markdown",
   "metadata": {},
   "source": [
    "7) Es necesario que la clase creada en el punto 5 contenga una lista, sobre la cual se apliquen las funciones incorporadas"
   ]
  },
  {
   "cell_type": "code",
   "execution_count": null,
   "metadata": {},
   "outputs": [],
   "source": [
    "class Herramientas: \n",
    "    def __init__(self, lista_numeros):\n",
    "        self.lista = lista_numeros\n",
    "\n",
    "    def verifica_primo(self, nro):\n",
    "        es_primo = True\n",
    "        for i in range(2,nro):\n",
    "            if nro % i == 0:\n",
    "                es_primo = False\n",
    "                break\n",
    "        return es_primo\n",
    "    \n",
    "    def valor_modal(self, lista, menor):\n",
    "        lista_unicos = []\n",
    "        lista_repeticiones = []\n",
    "        if len(lista) == 0:\n",
    "            return None\n",
    "        if (menor):\n",
    "            lista.sort()\n",
    "        else:\n",
    "            lista.sort(reverse=True)\n",
    "        for elemento in lista:\n",
    "            if elemento in lista_unicos:\n",
    "                i = lista_unicos.index(elemento)\n",
    "                lista_repeticiones[i] +=1\n",
    "            else:\n",
    "                lista_unicos.append(elemento)\n",
    "                lista_repeticiones.append(1)\n",
    "        moda = lista_unicos[0]\n",
    "        maximo = lista_repeticiones[0]\n",
    "        for i , elemento in enumerate(lista_unicos):\n",
    "            if lista_repeticiones > maximo:\n",
    "                moda = lista_unicos[i]\n",
    "                maximo = lista_repeticiones[i]\n",
    "        return moda, maximo\n",
    "    \n",
    "    def conversion_grados(valor, origen, destino):\n",
    "        valor_destino = None\n",
    "        if origen == \"celsius\":\n",
    "            if destino == \"celsius\":\n",
    "                valor_destino = valor\n",
    "            elif destino == \"farenheit\":\n",
    "                valor_destino = (valor * 9 / 5) + 32\n",
    "            elif destino == \"kelvin\":\n",
    "                valor_destino = valor + 273.15\n",
    "            else:\n",
    "                print(\"parametro de destino incorrecto\")\n",
    "        elif origen == \"farenheit\":\n",
    "            if destino == \"celsius\":\n",
    "                valor_destino = (valor - 32) * 5 / 9\n",
    "            elif destino == \"farenheit\":\n",
    "                valor_destino = valor\n",
    "            elif destino == \"kelvin\":\n",
    "                valor_destino = ((valor - 32) * 5 / 9) + 273.15\n",
    "            else:\n",
    "                print(\"parametro de destino incorrecto\")\n",
    "        elif origen == \"kelvin\":\n",
    "            if destino == \"celsius\":\n",
    "                valor_destino = valor - 273.15\n",
    "            elif destino == \"farenheit\":\n",
    "                valor_destino = ((valor - 273.15)* 9 / 5) + 32\n",
    "            elif destino == \"kelvin\":\n",
    "                valor_destino = valor\n",
    "            else:\n",
    "                print(\"parametro de destino incorrecto\")\n",
    "        else:\n",
    "            print(\"parametro de origen incorrecto\")\n",
    "        return valor_destino\n",
    "    \n",
    "    def factorial(numero):\n",
    "        if type(numero) != int or numero < 0:\n",
    "            return None\n",
    "        elif numero <= 1:\n",
    "            return 1\n",
    "\n",
    "        numero = numero * factorial(numero - 1)\n",
    "        return numero"
   ]
  },
  {
   "attachments": {},
   "cell_type": "markdown",
   "metadata": {},
   "source": [
    "8) Crear un archivo .py aparte y ubicar allí la clase generada en el punto anterior. Luego realizar la importación del módulo y probar alguna de sus funciones"
   ]
  },
  {
   "cell_type": "code",
   "execution_count": null,
   "metadata": {},
   "outputs": [],
   "source": []
  }
 ],
 "metadata": {
  "interpreter": {
   "hash": "c85384e4cb51c8b72350f3a8712cc8351fdc3955e32a27f9b60c6242ab125f01"
  },
  "kernelspec": {
   "display_name": "Python 3 (ipykernel)",
   "language": "python",
   "name": "python3"
  },
  "language_info": {
   "codemirror_mode": {
    "name": "ipython",
    "version": 3
   },
   "file_extension": ".py",
   "mimetype": "text/x-python",
   "name": "python",
   "nbconvert_exporter": "python",
   "pygments_lexer": "ipython3",
   "version": "3.10.11"
  }
 },
 "nbformat": 4,
 "nbformat_minor": 4
}
