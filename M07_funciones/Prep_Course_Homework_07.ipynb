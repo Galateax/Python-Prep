{
 "cells": [
  {
   "attachments": {},
   "cell_type": "markdown",
   "metadata": {},
   "source": [
    "## Funciones"
   ]
  },
  {
   "attachments": {},
   "cell_type": "markdown",
   "metadata": {},
   "source": [
    "1) Crear una función que reciba un número como parámetro y devuelva True si es primo y False si no lo es"
   ]
  },
  {
   "cell_type": "code",
   "execution_count": 108,
   "metadata": {},
   "outputs": [],
   "source": [
    "def es_primo(num):\n",
    "    primo = True\n",
    "    if num <=1:\n",
    "        print(\"los primos son mayores a dos\")\n",
    "        return None\n",
    "    if num == 2:\n",
    "        return True\n",
    "    for i in range(2,num):\n",
    "        if num%i == 0:\n",
    "            primo = False\n",
    "            break\n",
    "    return primo\n"
   ]
  },
  {
   "cell_type": "code",
   "execution_count": 112,
   "metadata": {},
   "outputs": [
    {
     "data": {
      "text/plain": [
       "True"
      ]
     },
     "execution_count": 112,
     "metadata": {},
     "output_type": "execute_result"
    }
   ],
   "source": [
    "es_primo(11)"
   ]
  },
  {
   "attachments": {},
   "cell_type": "markdown",
   "metadata": {},
   "source": [
    "2) Utilizando la función del punto 1, realizar otra función que reciba de parámetro una lista de números y devuelva sólo aquellos que son primos en otra lista"
   ]
  },
  {
   "cell_type": "code",
   "execution_count": 113,
   "metadata": {},
   "outputs": [],
   "source": [
    "def obtener_primos(lista):\n",
    "    primos = []\n",
    "    for numero in lista:\n",
    "        if es_primo(numero):\n",
    "            primos.append(numero)\n",
    "    return primos\n",
    "   \n"
   ]
  },
  {
   "cell_type": "code",
   "execution_count": 114,
   "metadata": {},
   "outputs": [
    {
     "name": "stdout",
     "output_type": "stream",
     "text": [
      "los primos son mayores a dos\n"
     ]
    },
    {
     "data": {
      "text/plain": [
       "[2, 3, 5, 7, 11]"
      ]
     },
     "execution_count": 114,
     "metadata": {},
     "output_type": "execute_result"
    }
   ],
   "source": [
    "lista = [1,2,3,4,5,6,7,8,9,10,11,12]\n",
    "obtener_primos(lista)"
   ]
  },
  {
   "attachments": {},
   "cell_type": "markdown",
   "metadata": {},
   "source": [
    "3) Crear una función que al recibir una lista de números, devuelva el que más se repite y cuántas veces lo hace. Si hay más de un \"más repetido\", que devuelva cualquiera"
   ]
  },
  {
   "cell_type": "code",
   "execution_count": 40,
   "metadata": {},
   "outputs": [],
   "source": [
    "lista = [1,2,2,2,2,2,3,4,4,4,5,6,7,8,8,8,8,8,9,10,11,12]"
   ]
  },
  {
   "cell_type": "code",
   "execution_count": 5,
   "metadata": {},
   "outputs": [],
   "source": [
    "def mas_repetido(lista):\n",
    "    contador = {}\n",
    "    for numero in lista:\n",
    "        if numero in contador.keys():\n",
    "            contador[numero] += 1\n",
    "        else:\n",
    "            contador[numero] = 1\n",
    "    maximo_rep = 0\n",
    "    mas_repetido = None\n",
    "\n",
    "    for numero , repeticion in contador.items():\n",
    "        if repeticion > maximo_rep:\n",
    "            maximo_rep = repeticion\n",
    "            mas_repetido = numero\n",
    "    \n",
    "    return mas_repetido , maximo_rep\n",
    "\n"
   ]
  },
  {
   "cell_type": "code",
   "execution_count": 6,
   "metadata": {},
   "outputs": [
    {
     "data": {
      "text/plain": [
       "(2, 4)"
      ]
     },
     "execution_count": 6,
     "metadata": {},
     "output_type": "execute_result"
    }
   ],
   "source": [
    "mas_repetido(lista)"
   ]
  },
  {
   "attachments": {},
   "cell_type": "markdown",
   "metadata": {},
   "source": [
    "4) A la función del punto 3, agregar un parámetro más, que permita elegir si se requiere el menor o el mayor de los mas repetidos."
   ]
  },
  {
   "cell_type": "code",
   "execution_count": 43,
   "metadata": {},
   "outputs": [],
   "source": [
    "def mas_repetido(lista, modo):\n",
    "    contador = {}\n",
    "    for num in lista:\n",
    "        if num in contador.keys():\n",
    "            contador[num] += 1\n",
    "        else:\n",
    "            contador[num] = 1\n",
    "\n",
    "    maximo_rep = 0\n",
    "    mas_repetido = []\n",
    "\n",
    "    for numero , repeticion in contador.items():\n",
    "        if repeticion > maximo_rep:\n",
    "            maximo_rep = repeticion\n",
    "            mas_repetido = [numero]\n",
    "        elif repeticion == maximo_rep:\n",
    "            mas_repetido.append(numero)     \n",
    "    \n",
    "    if modo == \"menor\":\n",
    "        num_mas_rep = min(mas_repetido)\n",
    "        \n",
    "    elif modo == \"mayor\":\n",
    "        num_mas_rep = max(mas_repetido)\n",
    "    \n",
    "    return num_mas_rep , maximo_rep "
   ]
  },
  {
   "cell_type": "code",
   "execution_count": 45,
   "metadata": {},
   "outputs": [
    {
     "data": {
      "text/plain": [
       "(2, 5)"
      ]
     },
     "execution_count": 45,
     "metadata": {},
     "output_type": "execute_result"
    }
   ],
   "source": [
    "mas_repetido(lista, \"menor\")"
   ]
  },
  {
   "attachments": {},
   "cell_type": "markdown",
   "metadata": {},
   "source": [
    "5) Crear una función que convierta entre grados Celsius, Farenheit y Kelvin<br>\n",
    "Fórmula 1\t: (°C × 9/5) + 32 = °F<br>\n",
    "Fórmula 2\t: °C + 273.15 = °K<br>\n",
    "Debe recibir 3 parámetros: el valor, la medida de orígen y la medida de destino\n"
   ]
  },
  {
   "cell_type": "code",
   "execution_count": 46,
   "metadata": {},
   "outputs": [],
   "source": [
    "def conversion_grados(valor, origen, destino):\n",
    "    if origen == \"celsius\":\n",
    "        if destino == \"celsius\":\n",
    "            valor_destino = valor\n",
    "        elif destino == \"farenheit\":\n",
    "            valor_destino = (valor * 9 / 5) + 32\n",
    "        elif destino == \"kelvin\":\n",
    "            valor_destino = valor + 273.15\n",
    "        else:\n",
    "            print(\"parametro de destino incorrecto\")\n",
    "    elif origen == \"farenheit\":\n",
    "        if destino == \"celsius\":\n",
    "            valor_destino = (valor - 32) * 5 / 9\n",
    "        elif destino == \"farenheit\":\n",
    "            valor_destino = valor\n",
    "        elif destino == \"kelvin\":\n",
    "            valor_destino = ((valor - 32) * 5 / 9) + 273.15\n",
    "        else:\n",
    "            print(\"parametro de destino incorrecto\")\n",
    "    elif origen == \"kelvin\":\n",
    "        if destino == \"celsius\":\n",
    "            valor_destino = valor - 273.15\n",
    "        elif destino == \"farenheit\":\n",
    "            valor_destino = ((valor - 273.15)* 9 / 5) + 32\n",
    "        elif destino == \"kelvin\":\n",
    "            valor_destino = valor\n",
    "        else:\n",
    "            print(\"parametro de destino incorrecto\")\n",
    "    else:\n",
    "        print(\"parametro de origen incorrecto\")\n",
    "    return valor_destino"
   ]
  },
  {
   "cell_type": "code",
   "execution_count": 49,
   "metadata": {},
   "outputs": [
    {
     "name": "stdout",
     "output_type": "stream",
     "text": [
      "77.0\n",
      "298.15\n",
      "25.0\n"
     ]
    }
   ],
   "source": [
    "#convertir 25 celsius a farenheit\n",
    "print(conversion_grados(25,\"celsius\",\"farenheit\"))\n",
    "print(conversion_grados(77,\"farenheit\",\"kelvin\"))\n",
    "print(conversion_grados(298.15, \"kelvin\",\"celsius\"))"
   ]
  },
  {
   "attachments": {},
   "cell_type": "markdown",
   "metadata": {},
   "source": [
    "6) Iterando una lista con los tres valores posibles de temperatura que recibe la función del punto 5, hacer un print para cada combinación de los mismos:"
   ]
  },
  {
   "cell_type": "code",
   "execution_count": 50,
   "metadata": {},
   "outputs": [
    {
     "name": "stdout",
     "output_type": "stream",
     "text": [
      "20 grados celsius convertidos a celsius son 20 grados\n",
      "20 grados celsius convertidos a kelvin son 293.15 grados\n",
      "20 grados celsius convertidos a farenheit son 68.0 grados\n",
      "20 grados kelvin convertidos a celsius son -253.14999999999998 grados\n",
      "20 grados kelvin convertidos a kelvin son 20 grados\n",
      "20 grados kelvin convertidos a farenheit son -423.66999999999996 grados\n",
      "20 grados farenheit convertidos a celsius son -6.666666666666667 grados\n",
      "20 grados farenheit convertidos a kelvin son 266.4833333333333 grados\n",
      "20 grados farenheit convertidos a farenheit son 20 grados\n"
     ]
    }
   ],
   "source": [
    "unidades = [\"celsius\", \"kelvin\", \"farenheit\"]\n",
    "temperatura = 20\n",
    "for i in unidades:\n",
    "    for j in unidades:\n",
    "        conversion = conversion_grados(temperatura, i , j)\n",
    "        print(f\"{temperatura} grados {i} convertidos a {j} son {conversion} grados\")"
   ]
  },
  {
   "attachments": {},
   "cell_type": "markdown",
   "metadata": {},
   "source": [
    "7) Armar una función que devuelva el factorial de un número. Tener en cuenta que el usuario puede equivocarse y enviar de parámetro un número no entero o negativo"
   ]
  },
  {
   "cell_type": "code",
   "execution_count": 51,
   "metadata": {},
   "outputs": [],
   "source": [
    "def factorial(numero):\n",
    "    if type(numero) != int or numero < 0:\n",
    "        return None\n",
    "    elif numero <= 1:\n",
    "        return 1\n",
    "\n",
    "    numero = numero * factorial(numero - 1)\n",
    "    return numero"
   ]
  },
  {
   "cell_type": "code",
   "execution_count": 52,
   "metadata": {},
   "outputs": [
    {
     "data": {
      "text/plain": [
       "120"
      ]
     },
     "execution_count": 52,
     "metadata": {},
     "output_type": "execute_result"
    }
   ],
   "source": [
    "factorial(5)"
   ]
  }
 ],
 "metadata": {
  "interpreter": {
   "hash": "c85384e4cb51c8b72350f3a8712cc8351fdc3955e32a27f9b60c6242ab125f01"
  },
  "kernelspec": {
   "display_name": "Python 3 (ipykernel)",
   "language": "python",
   "name": "python3"
  },
  "language_info": {
   "codemirror_mode": {
    "name": "ipython",
    "version": 3
   },
   "file_extension": ".py",
   "mimetype": "text/x-python",
   "name": "python",
   "nbconvert_exporter": "python",
   "pygments_lexer": "ipython3",
   "version": "3.10.11"
  }
 },
 "nbformat": 4,
 "nbformat_minor": 4
}
